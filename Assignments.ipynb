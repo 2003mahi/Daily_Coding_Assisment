{
  "nbformat": 4,
  "nbformat_minor": 0,
  "metadata": {
    "colab": {
      "provenance": []
    },
    "kernelspec": {
      "name": "python3",
      "display_name": "Python 3"
    },
    "language_info": {
      "name": "python"
    }
  },
  "cells": [
    {
      "cell_type": "markdown",
      "source": [
        "DAY -1"
      ],
      "metadata": {
        "id": "NVcLLkJNJBrz"
      }
    },
    {
      "cell_type": "code",
      "execution_count": null,
      "metadata": {
        "colab": {
          "base_uri": "https://localhost:8080/"
        },
        "id": "c8B80bdGI-C_",
        "outputId": "b5c15961-a527-405c-be6d-2b264468921d"
      },
      "outputs": [
        {
          "output_type": "stream",
          "name": "stdout",
          "text": [
            "10 <class 'int'>\n",
            "3.14 <class 'float'>\n",
            "Hello, Jupyter <class 'str'>\n",
            "True <class 'bool'>\n"
          ]
        }
      ],
      "source": [
        "# Declare variables of different data types\n",
        "integer_var = 10\n",
        "float_var = 3.14\n",
        "string_var = \"Hello, Jupyter\"\n",
        "boolean_var = True\n",
        "\n",
        "# Print each variable and its type\n",
        "print(integer_var, type(integer_var))\n",
        "print(float_var, type(float_var))\n",
        "print(string_var, type(string_var))\n",
        "print(boolean_var, type(boolean_var))\n"
      ]
    },
    {
      "cell_type": "markdown",
      "source": [],
      "metadata": {
        "id": "eZg_Ax-BI_nK"
      }
    },
    {
      "cell_type": "markdown",
      "source": [
        "DAY - 2 NLP"
      ],
      "metadata": {
        "id": "hwjLmYehJhB4"
      }
    },
    {
      "cell_type": "code",
      "source": [
        "# Create a list with 5 elements\n",
        "my_list = [10, 20, 30, 40, 50]\n",
        "\n",
        "# Create a tuple with 5 elements\n",
        "my_tuple = ('apple', 'banana', 'cherry', 'date', 'elderberry')\n",
        "\n",
        "# Create a dictionary with 5 key-value pairs\n",
        "my_dict = {\n",
        "    'name': 'Alice',\n",
        "    'age': 25,\n",
        "    'city': 'New York',\n",
        "    'profession': 'Engineer',\n",
        "    'hobby': 'Painting'\n",
        "}\n",
        "\n",
        "# Access elements in the list\n",
        "print(\"List elements:\")\n",
        "print(my_list[0])\n",
        "print(my_list[2])\n",
        "print(my_list[-1])\n",
        "\n",
        "# Access elements in the tuple\n",
        "print(\"\\nTuple elements:\")\n",
        "print(my_tuple[1])\n",
        "print(my_tuple[-2])\n",
        "\n",
        "# Access elements in the dictionary\n",
        "print(\"\\nDictionary elements:\")\n",
        "print(my_dict['name'])\n",
        "print(my_dict['hobby'])\n"
      ],
      "metadata": {
        "colab": {
          "base_uri": "https://localhost:8080/"
        },
        "id": "6QZpcypKJX84",
        "outputId": "5256c17b-3fab-4f5e-e144-34e7e058bfb5"
      },
      "execution_count": null,
      "outputs": [
        {
          "output_type": "stream",
          "name": "stdout",
          "text": [
            "List elements:\n",
            "10\n",
            "30\n",
            "50\n",
            "\n",
            "Tuple elements:\n",
            "banana\n",
            "date\n",
            "\n",
            "Dictionary elements:\n",
            "Alice\n",
            "Painting\n"
          ]
        }
      ]
    },
    {
      "cell_type": "markdown",
      "source": [
        "DAY - 3\n"
      ],
      "metadata": {
        "id": "vqF50-C-DlZ-"
      }
    },
    {
      "cell_type": "code",
      "source": [
        "def calculate_grade():\n",
        "    try:\n",
        "        subject1 = int(input(\"Enter marks for subject 1: \"))\n",
        "        subject2 = int(input(\"Enter marks for subject 2: \"))\n",
        "        subject3 = int(input(\"Enter marks for subject 3: \"))\n",
        "\n",
        "        if not (0 <= subject1 <= 100 and 0 <= subject2 <= 100 and 0 <= subject3 <= 100):\n",
        "            print(\"Invalid marks. Marks should be between 0 and 100.\")\n",
        "            return\n",
        "\n",
        "        average = (subject1 + subject2 + subject3) / 3\n",
        "\n",
        "        if average >= 90:\n",
        "            print(\"Grade: A\")\n",
        "        elif 80 <= average <= 89:\n",
        "            print(\"Grade: B\")\n",
        "        elif 70 <= average <= 79:\n",
        "            print(\"Grade: C\")\n",
        "        else:\n",
        "            print(\"Grade: Fail\")\n",
        "\n",
        "    except ValueError:\n",
        "        print(\"Invalid input. Please enter numeric values for marks.\")\n",
        "\n",
        "\n",
        "calculate_grade()"
      ],
      "metadata": {
        "colab": {
          "base_uri": "https://localhost:8080/"
        },
        "id": "wEW6CuOAJgO3",
        "outputId": "9146b7f1-8fe0-4d2c-e9f4-ccfe23b9ebe4"
      },
      "execution_count": null,
      "outputs": [
        {
          "output_type": "stream",
          "name": "stdout",
          "text": [
            "Enter marks for subject 1: 15\n",
            "Enter marks for subject 2: 14\n",
            "Enter marks for subject 3: 13\n",
            "Grade: Fail\n"
          ]
        }
      ]
    },
    {
      "cell_type": "markdown",
      "source": [
        "DAY - 4"
      ],
      "metadata": {
        "id": "m2ZkOyGmDoZW"
      }
    },
    {
      "cell_type": "code",
      "source": [
        "# Input: Positive integer n\n",
        "n = int(input(\"Enter a positive integer: \"))\n",
        "\n",
        "# Calculate the sum of all even numbers from 1 to n\n",
        "even_sum = sum(i for i in range(2, n+1, 2))\n",
        "\n",
        "# Output the result\n",
        "print(f\"The sum of all even numbers between 1 and {n} is: {even_sum}\")\n"
      ],
      "metadata": {
        "colab": {
          "base_uri": "https://localhost:8080/"
        },
        "id": "pP0-W_RmEI_Z",
        "outputId": "4cb6583f-2a02-44aa-8526-38ca5b0ae090"
      },
      "execution_count": 4,
      "outputs": [
        {
          "output_type": "stream",
          "name": "stdout",
          "text": [
            "Enter a positive integer: 12\n",
            "The sum of all even numbers between 1 and 12 is: 42\n"
          ]
        }
      ]
    }
  ]
}